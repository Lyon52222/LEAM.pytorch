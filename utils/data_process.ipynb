{
 "metadata": {
  "language_info": {
   "codemirror_mode": {
    "name": "ipython",
    "version": 3
   },
   "file_extension": ".py",
   "mimetype": "text/x-python",
   "name": "python",
   "nbconvert_exporter": "python",
   "pygments_lexer": "ipython3",
   "version": "3.8.5-final"
  },
  "orig_nbformat": 2,
  "kernelspec": {
   "name": "python3",
   "display_name": "Python 3.8.5 64-bit ('pytorch': conda)",
   "metadata": {
    "interpreter": {
     "hash": "551bafda8e2c0b0549d608a9644535cb76ca25de1e17c7db3c3c653e219fb004"
    }
   }
  }
 },
 "nbformat": 4,
 "nbformat_minor": 2,
 "cells": [
  {
   "cell_type": "code",
   "execution_count": 2,
   "metadata": {},
   "outputs": [],
   "source": [
    "import pandas as pd\n",
    "from argparse import Namespace\n",
    "import re\n",
    "import os"
   ]
  },
  {
   "cell_type": "code",
   "execution_count": 6,
   "metadata": {},
   "outputs": [],
   "source": [
    "args = Namespace(\n",
    "    ag_news_path = '../data/ag_news/',\n",
    "    train_csv = 'train.csv',\n",
    "    test_csv = 'test.csv',\n",
    "    processed_train_csv = 'processed_train.csv',\n",
    "    processed_val_csv = 'processed_val.csv',\n",
    "    processed_test_csv = 'processed_test.csv'\n",
    "    \n",
    ")"
   ]
  },
  {
   "cell_type": "code",
   "execution_count": 7,
   "metadata": {},
   "outputs": [],
   "source": [
    "def process_text(text):\n",
    "    text = text.lower()\n",
    "    text = re.sub(r\"\\\\+\", r\" \", text)\n",
    "    return text\n",
    "\n",
    "def process_data(csv_path):\n",
    "\n",
    "    data_df = pd.read_csv(csv_path, usecols=[0,2], header=None, names=['label', 'text'])\n",
    "    data_df['label'] = data_df.label.apply(lambda x: x-1)\n",
    "    data_df['label_text'] = data_df.label.apply({0:'word', 1:'sport', 2:'business', 3:'science technology'}.get)\n",
    "\n",
    "    data_df.text = data_df.text.apply(process_text)\n",
    "    return data_df"
   ]
  },
  {
   "cell_type": "code",
   "execution_count": 8,
   "metadata": {},
   "outputs": [],
   "source": [
    "train_df = process_data(os.path.join(args.ag_news_path, args.train_csv))\n",
    "\n",
    "processed_val_df = train_df.sample(frac=0.2, random_state=1233, axis=0)\n",
    "\n",
    "processed_train_df = train_df[~train_df.index.isin(processed_val_df.index)]\n",
    "\n",
    "processed_test_df = process_data(os.path.join(args.ag_news_path,args.test_csv))"
   ]
  },
  {
   "cell_type": "code",
   "execution_count": 10,
   "metadata": {},
   "outputs": [],
   "source": [
    "processed_train_df.to_csv(os.path.join(args.ag_news_path, args.processed_train_csv), index=False)\n",
    "processed_val_df.to_csv(os.path.join(args.ag_news_path, args.processed_val_csv), index=False)\n",
    "processed_test_df.to_csv(os.path.join(args.ag_news_path, args.processed_test_csv), index=False)"
   ]
  },
  {
   "cell_type": "code",
   "execution_count": 11,
   "metadata": {},
   "outputs": [
    {
     "output_type": "stream",
     "name": "stdout",
     "text": [
      "96000\n24000\n7600\n"
     ]
    }
   ],
   "source": [
    "print(len(processed_train_df))\n",
    "print(len(processed_val_df))\n",
    "print(len(processed_test_df))"
   ]
  },
  {
   "cell_type": "code",
   "execution_count": null,
   "metadata": {},
   "outputs": [],
   "source": []
  }
 ]
}